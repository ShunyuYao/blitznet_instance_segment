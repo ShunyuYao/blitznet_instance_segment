{
 "cells": [
  {
   "cell_type": "code",
   "execution_count": 12,
   "metadata": {},
   "outputs": [
    {
     "name": "stderr",
     "output_type": "stream",
     "text": [
      "usage: ipykernel_launcher.py [-h] --run_name RUN_NAME [--ckpt CKPT]\n",
      "                             [--dataset {voc07,voc12-train,voc12-val,voc12-trainval,voc07+12,coco,voc07+12-segfull,voc07+12-segmentation,coco-seg}]\n",
      "                             [--split {train,test,val,trainval,train2014,train-segmentation,val-segmentation,val2014,train-segmentation-original,valminusminival2014,minival2014,test-dev2015,test2015}]\n",
      "                             [--trunk {resnet50,vgg16}] [--x4]\n",
      "                             [--image_size IMAGE_SIZE]\n",
      "                             [--head {shared,nonshared}]\n",
      "                             [--resize {bilinear,nearest}] [--top_fm TOP_FM]\n",
      "                             [--det_kernel DET_KERNEL]\n",
      "                             [--max_iterations MAX_ITERATIONS]\n",
      "                             [--batch_size BATCH_SIZE]\n",
      "                             [--weight_decay WEIGHT_DECAY]\n",
      "                             [--bn_decay BN_DECAY]\n",
      "                             [--learning_rate LEARNING_RATE]\n",
      "                             [--warmup_step WARMUP_STEP]\n",
      "                             [--warmup_lr WARMUP_LR]\n",
      "                             [--optimizer {adam,nesterov}]\n",
      "                             [--zoomout_prob ZOOMOUT_PROB]\n",
      "                             [--lr_decay LR_DECAY [LR_DECAY ...]]\n",
      "                             [--random_trunk_init] [--detect] [--segment]\n",
      "                             [--no_seg_gt] [--n_base_channels N_BASE_CHANNELS]\n",
      "                             [--seg_filter_size {1,3}] [--batch_eval]\n",
      "                             [--min_ckpt MIN_CKPT] [--step STEP]\n",
      "                             [--top_k_nms TOP_K_NMS]\n",
      "                             [--top_k_after_nms TOP_K_AFTER_NMS]\n",
      "                             [--top_k_post_nms TOP_K_POST_NMS]\n",
      "                             [--conf_thresh CONF_THRESH]\n",
      "                             [--nms_thresh NMS_THRESH]\n",
      "                             [--voc_iou_thresh VOC_IOU_THRESH]\n",
      "                             [--eval_min_conf EVAL_MIN_CONF]\n",
      "                             [--save_first_n SAVE_FIRST_N]\n",
      "ipykernel_launcher.py: error: the following arguments are required: --run_name\n"
     ]
    },
    {
     "ename": "SystemExit",
     "evalue": "2",
     "output_type": "error",
     "traceback": [
      "An exception has occurred, use %tb to see the full traceback.\n",
      "\u001b[0;31mSystemExit\u001b[0m\u001b[0;31m:\u001b[0m 2\n"
     ]
    },
    {
     "name": "stderr",
     "output_type": "stream",
     "text": [
      "/home/yaosy/anaconda3/envs/tensorflow/lib/python3.5/site-packages/IPython/core/interactiveshell.py:2918: UserWarning: To exit: use 'exit', 'quit', or Ctrl-D.\n",
      "  warn(\"To exit: use 'exit', 'quit', or Ctrl-D.\", stacklevel=1)\n"
     ]
    }
   ],
   "source": [
    "from glob import glob\n",
    "import logging\n",
    "import logging.config\n",
    "import os\n",
    "\n",
    "import tensorflow as tf\n",
    "import numpy as np\n",
    "from PIL import ImageFont\n",
    "import sys\n",
    "sys.path.append('../')\n",
    "\n",
    "# from config import get_logging_config, args, evaluation_logfile\n",
    "# from config import config as net_config\n",
    "# from paths import CKPT_ROOT\n",
    "\n",
    "import matplotlib\n",
    "matplotlib.use('Agg')\n",
    "\n",
    "from vgg import VGG\n",
    "# from resnet import ResNet\n",
    "# from voc_loader import VOCLoader\n",
    "# from coco_loader import COCOLoader\n",
    "# from evaluation import Evaluation, COCOEval\n",
    "# from detector import Detector"
   ]
  },
  {
   "cell_type": "code",
   "execution_count": null,
   "metadata": {},
   "outputs": [],
   "source": []
  }
 ],
 "metadata": {
  "kernelspec": {
   "display_name": "Python 3",
   "language": "python",
   "name": "python3"
  },
  "language_info": {
   "codemirror_mode": {
    "name": "ipython",
    "version": 3
   },
   "file_extension": ".py",
   "mimetype": "text/x-python",
   "name": "python",
   "nbconvert_exporter": "python",
   "pygments_lexer": "ipython3",
   "version": "3.5.4"
  }
 },
 "nbformat": 4,
 "nbformat_minor": 2
}
