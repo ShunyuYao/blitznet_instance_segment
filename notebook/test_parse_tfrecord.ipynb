{
 "cells": [
  {
   "cell_type": "code",
   "execution_count": 1,
   "metadata": {},
   "outputs": [],
   "source": [
    "import tensorflow as tf\n",
    "tf.enable_eager_execution()"
   ]
  },
  {
   "cell_type": "code",
   "execution_count": 2,
   "metadata": {},
   "outputs": [],
   "source": [
    "import numpy as np"
   ]
  },
  {
   "cell_type": "code",
   "execution_count": 40,
   "metadata": {},
   "outputs": [
    {
     "data": {
      "text/plain": [
       "<TFRecordDataset shapes: (), types: tf.string>"
      ]
     },
     "execution_count": 40,
     "metadata": {},
     "output_type": "execute_result"
    }
   ],
   "source": [
    "filename = '../Datasets/coco-seg-train2014-00000-of-00001'\n",
    "raw_dataset = tf.data.TFRecordDataset(filename)\n",
    "raw_dataset"
   ]
  },
  {
   "cell_type": "code",
   "execution_count": 41,
   "metadata": {},
   "outputs": [
    {
     "name": "stderr",
     "output_type": "stream",
     "text": [
      "IOPub data rate exceeded.\n",
      "The notebook server will temporarily stop sending output\n",
      "to the client in order to avoid crashing it.\n",
      "To change this limit, set the config variable\n",
      "`--NotebookApp.iopub_data_rate_limit`.\n",
      "\n",
      "Current values:\n",
      "NotebookApp.iopub_data_rate_limit=1000000.0 (bytes/sec)\n",
      "NotebookApp.rate_limit_window=3.0 (secs)\n",
      "\n"
     ]
    }
   ],
   "source": [
    "for raw_record in raw_dataset.take(1):\n",
    "    print(repr(raw_record))"
   ]
  },
  {
   "cell_type": "code",
   "execution_count": 63,
   "metadata": {},
   "outputs": [],
   "source": [
    "keys_to_features = {\n",
    "    'image/encoded': tf.FixedLenFeature(\n",
    "        (), tf.string, default_value=''),\n",
    "    'image/format': tf.FixedLenFeature(\n",
    "        (), tf.string, default_value='JPEG'),\n",
    "    'image/segmentation/encoded': tf.FixedLenFeature(\n",
    "        (), tf.string, default_value=''),\n",
    "    'image/segmentation/format': tf.FixedLenFeature(\n",
    "        (), tf.string, default_value='RAW'),\n",
    "    'image/object/bbox/xmin': tf.VarLenFeature(\n",
    "        dtype=tf.float32),\n",
    "    'image/object/bbox/ymin': tf.VarLenFeature(\n",
    "        dtype=tf.float32),\n",
    "    'image/object/bbox/xmax': tf.VarLenFeature(\n",
    "        dtype=tf.float32),\n",
    "    'image/object/bbox/ymax': tf.VarLenFeature(\n",
    "        dtype=tf.float32),\n",
    "    'image/object/class/label': tf.VarLenFeature(\n",
    "        dtype=tf.int64),\n",
    "    'image/object/difficulty': tf.VarLenFeature(\n",
    "        dtype=tf.int64),\n",
    "    'image/height': tf.FixedLenFeature(\n",
    "        [], tf.int64, default_value=0),\n",
    "    'image/width': tf.FixedLenFeature(\n",
    "        [], tf.int64, default_value=0),\n",
    "    'image/instance': tf.VarLenFeature(\n",
    "        dtype=tf.int64),\n",
    "    'image/num_instances': tf.FixedLenFeature(\n",
    "        [], tf.int64, default_value=0),\n",
    "}\n",
    "\n",
    "def _parse_function(example_proto):\n",
    "  # Parse the input tf.Example proto using the dictionary above.\n",
    "  return tf.parse_single_example(example_proto, keys_to_features)"
   ]
  },
  {
   "cell_type": "code",
   "execution_count": 64,
   "metadata": {},
   "outputs": [],
   "source": [
    "parsed_dataset = raw_dataset.map(_parse_function)"
   ]
  },
  {
   "cell_type": "code",
   "execution_count": 65,
   "metadata": {},
   "outputs": [
    {
     "data": {
      "text/plain": [
       "<MapDataset shapes: {image/object/bbox/xmax: (?,), image/height: (), image/object/bbox/ymax: (?,), image/object/class/label: (?,), image/segmentation/format: (), image/object/bbox/xmin: (?,), image/segmentation/encoded: (), image/num_instances: (), image/object/difficulty: (?,), image/instance: (?,), image/object/bbox/ymin: (?,), image/format: (), image/encoded: (), image/width: ()}, types: {image/object/bbox/xmax: tf.float32, image/height: tf.int64, image/object/bbox/ymax: tf.float32, image/object/class/label: tf.int64, image/segmentation/format: tf.string, image/object/bbox/xmin: tf.float32, image/segmentation/encoded: tf.string, image/num_instances: tf.int64, image/object/difficulty: tf.int64, image/instance: tf.int64, image/object/bbox/ymin: tf.float32, image/format: tf.string, image/encoded: tf.string, image/width: tf.int64}>"
      ]
     },
     "execution_count": 65,
     "metadata": {},
     "output_type": "execute_result"
    }
   ],
   "source": [
    "parsed_dataset"
   ]
  },
  {
   "cell_type": "code",
   "execution_count": 66,
   "metadata": {},
   "outputs": [],
   "source": [
    "t1 = parsed_dataset.take(1)"
   ]
  },
  {
   "cell_type": "code",
   "execution_count": 68,
   "metadata": {},
   "outputs": [],
   "source": [
    "for t in parsed_dataset.take(10):\n",
    "    t1 = t['image/instance']"
   ]
  },
  {
   "cell_type": "code",
   "execution_count": 79,
   "metadata": {},
   "outputs": [],
   "source": [
    "t1_np = t1.values.numpy()"
   ]
  },
  {
   "cell_type": "code",
   "execution_count": 80,
   "metadata": {},
   "outputs": [
    {
     "data": {
      "text/plain": [
       "array([15, 15, 15, ..., 15, 15, 15])"
      ]
     },
     "execution_count": 80,
     "metadata": {},
     "output_type": "execute_result"
    }
   ],
   "source": [
    "t1_np[t1_np != 0]"
   ]
  }
 ],
 "metadata": {
  "kernelspec": {
   "display_name": "Tensorflow",
   "language": "python",
   "name": "tensorflow"
  },
  "language_info": {
   "codemirror_mode": {
    "name": "ipython",
    "version": 3
   },
   "file_extension": ".py",
   "mimetype": "text/x-python",
   "name": "python",
   "nbconvert_exporter": "python",
   "pygments_lexer": "ipython3",
   "version": "3.5.4"
  }
 },
 "nbformat": 4,
 "nbformat_minor": 2
}
