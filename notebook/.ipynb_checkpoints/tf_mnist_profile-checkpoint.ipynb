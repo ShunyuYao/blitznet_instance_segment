{
 "cells": [
  {
   "cell_type": "code",
   "execution_count": 1,
   "metadata": {},
   "outputs": [],
   "source": [
    "import tensorflow as tf\n",
    "from tensorflow.examples.tutorials.mnist import mnist\n",
    "from tensorflow.examples.tutorials.mnist import input_data\n",
    "from tensorflow.python.profiler import model_analyzer\n",
    "from tensorflow.python.profiler import option_builder"
   ]
  },
  {
   "cell_type": "code",
   "execution_count": 2,
   "metadata": {},
   "outputs": [],
   "source": [
    "class FLAGS:\n",
    "  def __init__(self):\n",
    "    self.hidden1_dim =128     #hidden1 layer 的维度\n",
    "    self.hidden2_dim = 32     #hidden2 layer 的维度\n",
    "    self.learning_rate = 1e-2\n",
    "    self.batch_size = 100\n",
    "    self.max_step = 100        # 最大的训练步骤\n",
    "    self.stats_per_steps = 10  # 每隔10步搜集一次RunMetadata。 可以根据需要修改\n",
    "    self.data_set_dir =  '' #替换为你的本地mnist数据集路径，如果你已经下载过\n",
    "\n",
    "\n",
    "TRAINING_FLAGS = FLAGS()"
   ]
  },
  {
   "cell_type": "code",
   "execution_count": 3,
   "metadata": {},
   "outputs": [
    {
     "name": "stdout",
     "output_type": "stream",
     "text": [
      "WARNING:tensorflow:From <ipython-input-3-c42235aa5943>:1: read_data_sets (from tensorflow.contrib.learn.python.learn.datasets.mnist) is deprecated and will be removed in a future version.\n",
      "Instructions for updating:\n",
      "Please use alternatives such as official/mnist/dataset.py from tensorflow/models.\n",
      "WARNING:tensorflow:From /home/yaosy/anaconda3/envs/tensorflow/lib/python3.5/site-packages/tensorflow/contrib/learn/python/learn/datasets/mnist.py:260: maybe_download (from tensorflow.contrib.learn.python.learn.datasets.base) is deprecated and will be removed in a future version.\n",
      "Instructions for updating:\n",
      "Please write your own downloading logic.\n",
      "WARNING:tensorflow:From /home/yaosy/anaconda3/envs/tensorflow/lib/python3.5/site-packages/tensorflow/contrib/learn/python/learn/datasets/mnist.py:262: extract_images (from tensorflow.contrib.learn.python.learn.datasets.mnist) is deprecated and will be removed in a future version.\n",
      "Instructions for updating:\n",
      "Please use tf.data to implement this functionality.\n",
      "Extracting train-images-idx3-ubyte.gz\n",
      "WARNING:tensorflow:From /home/yaosy/anaconda3/envs/tensorflow/lib/python3.5/site-packages/tensorflow/contrib/learn/python/learn/datasets/mnist.py:267: extract_labels (from tensorflow.contrib.learn.python.learn.datasets.mnist) is deprecated and will be removed in a future version.\n",
      "Instructions for updating:\n",
      "Please use tf.data to implement this functionality.\n",
      "Extracting train-labels-idx1-ubyte.gz\n",
      "Extracting t10k-images-idx3-ubyte.gz\n",
      "Extracting t10k-labels-idx1-ubyte.gz\n",
      "WARNING:tensorflow:From /home/yaosy/anaconda3/envs/tensorflow/lib/python3.5/site-packages/tensorflow/contrib/learn/python/learn/datasets/mnist.py:290: DataSet.__init__ (from tensorflow.contrib.learn.python.learn.datasets.mnist) is deprecated and will be removed in a future version.\n",
      "Instructions for updating:\n",
      "Please use alternatives such as official/mnist/dataset.py from tensorflow/models.\n"
     ]
    }
   ],
   "source": [
    "data_sets = input_data.read_data_sets(train_dir=TRAINING_FLAGS.data_set_dir,fake_data=False)\n",
    "images_placeholder = tf.placeholder(tf.float32, shape=(TRAINING_FLAGS.batch_size,\n",
    "                                                       mnist.IMAGE_PIXELS))\n",
    "labels_placeholder = tf.placeholder(tf.int32, shape=(TRAINING_FLAGS.batch_size))\n",
    "\n",
    "logits = mnist.inference(images_placeholder,\n",
    "                         TRAINING_FLAGS.hidden1_dim,\n",
    "                         TRAINING_FLAGS.hidden2_dim)\n",
    "loss = mnist.loss(logits, labels_placeholder)\n",
    "train_op = mnist.training(loss, TRAINING_FLAGS.learning_rate)\n",
    "init = tf.global_variables_initializer()\n",
    "sess = tf.Session()\n",
    "sess.run(init)"
   ]
  },
  {
   "cell_type": "code",
   "execution_count": 4,
   "metadata": {},
   "outputs": [
    {
     "name": "stderr",
     "output_type": "stream",
     "text": [
      "10 ops no flops stats due to incomplete shapes.\n"
     ]
    }
   ],
   "source": [
    "mnist_profile = model_analyzer.Profiler(graph=sess.graph)\n",
    "run_options = tf.RunOptions(trace_level=tf.RunOptions.FULL_TRACE)"
   ]
  },
  {
   "cell_type": "code",
   "execution_count": null,
   "metadata": {},
   "outputs": [],
   "source": [
    "run_metadata = tf.RunMetadata()"
   ]
  },
  {
   "cell_type": "code",
   "execution_count": null,
   "metadata": {},
   "outputs": [],
   "source": [
    "feed_dict = dict()\n",
    "for step in range(TRAINING_FLAGS.max_step):\n",
    "    images_feed, labels_feed = data_sets.train.next_batch(TRAINING_FLAGS.batch_size, fake_data=False)\n",
    "    feed_dict = {\n",
    "                 images_placeholder: images_feed,\n",
    "                 labels_placeholder: labels_feed,\n",
    "                }    \n",
    "    #每 TRAINING_FLAGS.stats_per_steps 步，搜集一下统计数据：\n",
    "    if step % TRAINING_FLAGS.stats_per_steps == 0:\n",
    "        _, loss_value = sess.run(fetches=[train_op, loss],feed_dict=feed_dict, options=run_options, run_metadata=run_metadata)\n",
    "\n",
    "        #将本步搜集的统计数据添加到tfprofiler实例中     \n",
    "        mnist_profiler.add_step(step=step, run_meta=run_metadata)\n",
    "    else:\n",
    "        _, loss_value = sess.run(fetches=[train_op, loss],\n",
    "                               feed_dict=feed_dict)"
   ]
  },
  {
   "cell_type": "code",
   "execution_count": null,
   "metadata": {},
   "outputs": [],
   "source": []
  }
 ],
 "metadata": {
  "kernelspec": {
   "display_name": "Python 3",
   "language": "python",
   "name": "python3"
  },
  "language_info": {
   "codemirror_mode": {
    "name": "ipython",
    "version": 3
   },
   "file_extension": ".py",
   "mimetype": "text/x-python",
   "name": "python",
   "nbconvert_exporter": "python",
   "pygments_lexer": "ipython3",
   "version": "3.5.4"
  }
 },
 "nbformat": 4,
 "nbformat_minor": 2
}
